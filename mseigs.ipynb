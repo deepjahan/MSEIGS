{
 "cells": [
  {
   "cell_type": "code",
   "execution_count": 1,
   "metadata": {
    "collapsed": true
   },
   "outputs": [],
   "source": [
    "import networkx as nx\n",
    "import metis\n",
    "import os\n",
    "import numpy as np"
   ]
  },
  {
   "cell_type": "code",
   "execution_count": 10,
   "metadata": {
    "collapsed": true
   },
   "outputs": [],
   "source": [
    "G=nx.Graph()\n",
    "f=open(\"roadNet-CA.txt\",\"r\")\n",
    "f.readline()\n",
    "f.readline()\n",
    "b=f.readline()\n",
    "f.readline()\n",
    "a=f.readline()\n",
    "while(a):\n",
    "    G.add_edge(int(a.split()[0])+1,int(a.split()[1])+1)\n",
    "    a=f.readline()"
   ]
  },
  {
   "cell_type": "code",
   "execution_count": null,
   "metadata": {
    "collapsed": false
   },
   "outputs": [],
   "source": [
    "#C=metis.part_graph(G,4)"
   ]
  },
  {
   "cell_type": "code",
   "execution_count": 12,
   "metadata": {
    "collapsed": false
   },
   "outputs": [],
   "source": [
    "d=G.edge\n",
    "f=open(\"roadNet-CA-Graclus.txt\",\"w\")\n",
    "f.write(\"1965206 2766607\")\n",
    "for i in range(1+max(d.keys())):\n",
    "    f.write('\\n')\n",
    "    try:\n",
    "        for j in d[i].keys():\n",
    "            f.write(str(j)+' ')\n",
    "    except KeyError:\n",
    "        f.write('\\n')\n",
    "f.close()"
   ]
  },
  {
   "cell_type": "code",
   "execution_count": 13,
   "metadata": {
    "collapsed": false
   },
   "outputs": [
    {
     "ename": "NameError",
     "evalue": "name 'os' is not defined",
     "output_type": "error",
     "traceback": [
      "\u001b[0;31m---------------------------------------------------------------------------\u001b[0m",
      "\u001b[0;31mNameError\u001b[0m                                 Traceback (most recent call last)",
      "\u001b[0;32m<ipython-input-13-2f3f6705ebeb>\u001b[0m in \u001b[0;36m<module>\u001b[0;34m()\u001b[0m\n\u001b[0;32m----> 1\u001b[0;31m \u001b[0mos\u001b[0m\u001b[0;34m.\u001b[0m\u001b[0msystem\u001b[0m\u001b[0;34m(\u001b[0m\u001b[0;34m\"gpmetis roadNet-CA-Graclus.txt 4\"\u001b[0m\u001b[0;34m)\u001b[0m \u001b[0;31m#Partitioning the graph into 4 clusters\u001b[0m\u001b[0;34m\u001b[0m\u001b[0m\n\u001b[0m",
      "\u001b[0;31mNameError\u001b[0m: name 'os' is not defined"
     ]
    }
   ],
   "source": [
    "os.system(\"gpmetis roadNet-CA-Graclus.txt 4\") #Partitioning the graph into 4 clusters"
   ]
  },
  {
   "cell_type": "code",
   "execution_count": null,
   "metadata": {
    "collapsed": true
   },
   "outputs": [],
   "source": [
    "part = f.open(\"roadNet-CA-Graclus.txt.part.4\").read().split()\n",
    "parts=[]\n",
    "for i in part:\n",
    "    parts.append(int(i))"
   ]
  },
  {
   "cell_type": "code",
   "execution_count": 2,
   "metadata": {
    "collapsed": true
   },
   "outputs": [],
   "source": [
    "def recursiveFormOmega(G,fileName,c,k):\n",
    "    d=G.edge\n",
    "    f=open(fileName,\"w\")\n",
    "    f.write(str(len(G.node))+\" \"+str(len(G.edges())))\n",
    "    for i in range(1+max(d.keys())):\n",
    "        f.write('\\n')\n",
    "        try:\n",
    "            for j in d[i].keys():\n",
    "                f.write(str(j)+' ')\n",
    "        except KeyError:\n",
    "            f.write('\\n')\n",
    "    f.close()\n",
    "    os.system(\"gpmetis \"+fileName+\" \"+str(c))\n",
    "    part = f.open(fileName+\".part.\"+str(c)).read().split()\n",
    "    parts=[]\n",
    "    for i in part:\n",
    "        parts.append(int(i))\n",
    "    clusters=[]\n",
    "    for j in range(c):\n",
    "        temp=[]\n",
    "        for i in range(len(parts)):\n",
    "            if parts[i]==j:\n",
    "                temp.append(i+1)\n",
    "        clusters.append(temp)\n",
    "    eVal=[]\n",
    "    eVec=[]\n",
    "    for i in range(c):\n",
    "        l=len(clusters[i])\n",
    "        Ai=[]\n",
    "        try:\n",
    "            for j in range(l):\n",
    "                temp=[]\n",
    "                for m in range(l):\n",
    "                    if G.has_edge(clusters[i][j],clusters[i][m]):\n",
    "                        temp.append(1)\n",
    "                    else:\n",
    "                        temp.append(0)\n",
    "                Ai.append(temp)\n",
    "            val,vec=np.linalg.eig(Ai)    \n",
    "        except MemoryError:\n",
    "            pass\n",
    "        eVal=eVal+list(val)\n",
    "        eVec=eVec+list(vec.T)\n",
    "    eigen=zip(eVal,eVec)\n",
    "    eigen.sort()\n",
    "    finalEigen=eigen[:k]\n",
    "    return [list(zip(*finalEigen)[0]),list(zip(*finalEigen)[1])]\n",
    "    #eigenVectors=zip(*eigen)[1]\n",
    "    #omega=[]\n",
    "    #for v in eigenVectors:\n",
    "    #    v=v+([0]*(d-len(v)))\n",
    "    #    omega.append(v)\n",
    "    #omega=np.array(omega)\n",
    "    #omega=omega.T\n",
    "    #return omega"
   ]
  },
  {
   "cell_type": "code",
   "execution_count": 11,
   "metadata": {
    "collapsed": false
   },
   "outputs": [],
   "source": [
    "def blockLanczoz(A,B0,Q0.Q1):\n",
    "    B=[B0]\n",
    "    Q=[Q0,Q1]\n",
    "    T=[[]]\n",
    "    Qj=[Q1]\n",
    "    for j in range(1,50):\n",
    "        R=np.dot(A,Q[j])-np.dot(Q[j-1],B[j-1].T)\n",
    "        Aj=np.dot(Q[j].T,R)\n",
    "        R=R-np.dot(Q[j],Aj)\n",
    "        B.append([])\n",
    "        Q.append([])\n",
    "        T.append([])\n",
    "        Q[j+1],B[j]=np.linalg.qr(R)\n",
    "        T[j]=np.dot(np.dot(Qj.T,A),Qj)\n",
    "        Qj.append(Q[j+1])"
   ]
  },
  {
   "cell_type": "code",
   "execution_count": null,
   "metadata": {
    "collapsed": true
   },
   "outputs": [],
   "source": []
  }
 ],
 "metadata": {
  "kernelspec": {
   "display_name": "Python 2",
   "language": "python",
   "name": "python2"
  },
  "language_info": {
   "codemirror_mode": {
    "name": "ipython",
    "version": 2
   },
   "file_extension": ".py",
   "mimetype": "text/x-python",
   "name": "python",
   "nbconvert_exporter": "python",
   "pygments_lexer": "ipython2",
   "version": "2.7.6"
  }
 },
 "nbformat": 4,
 "nbformat_minor": 1
}
